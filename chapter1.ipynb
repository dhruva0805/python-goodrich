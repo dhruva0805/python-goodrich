{
 "cells": [
  {
   "cell_type": "markdown",
   "source": [
    "# Chapter-1"
   ],
   "metadata": {
    "collapsed": false,
    "pycharm": {
     "name": "#%% md\n"
    }
   }
  },
  {
   "cell_type": "code",
   "execution_count": 1,
   "metadata": {
    "collapsed": true,
    "pycharm": {
     "name": "#%%\n"
    }
   },
   "outputs": [
    {
     "name": "stdout",
     "output_type": "stream",
     "text": [
      "True\n"
     ]
    }
   ],
   "source": [
    "def is_multiple(n, m):\n",
    "    if n%m == 0:\n",
    "        return True\n",
    "    return False\n",
    "\n",
    "print(is_multiple(10, 5))"
   ]
  },
  {
   "cell_type": "code",
   "execution_count": 3,
   "outputs": [
    {
     "name": "stdout",
     "output_type": "stream",
     "text": [
      "True\n",
      "False\n"
     ]
    }
   ],
   "source": [
    "def is_even(m):\n",
    "    if divmod(m, 2)[1] == 0:\n",
    "        return True\n",
    "    return False\n",
    "\n",
    "print(is_even(10))\n",
    "print(is_even(3))"
   ],
   "metadata": {
    "collapsed": false,
    "pycharm": {
     "name": "#%%\n"
    }
   }
  },
  {
   "cell_type": "code",
   "execution_count": 7,
   "outputs": [
    {
     "name": "stdout",
     "output_type": "stream",
     "text": [
      "(0, 50)\n"
     ]
    }
   ],
   "source": [
    "def minmax(series):\n",
    "    min_val = series[0]\n",
    "    max_val = series[0]\n",
    "    for val in series:\n",
    "        if max_val < val:\n",
    "            max_val = val\n",
    "        if min_val > val:\n",
    "            min_val = val\n",
    "    return min_val, max_val\n",
    "\n",
    "data = [10, 20, 50, 0, 6, 9, 11, 1]\n",
    "print(minmax(data))"
   ],
   "metadata": {
    "collapsed": false,
    "pycharm": {
     "name": "#%%\n"
    }
   }
  },
  {
   "cell_type": "code",
   "execution_count": null,
   "outputs": [],
   "source": [],
   "metadata": {
    "collapsed": false,
    "pycharm": {
     "name": "#%%\n"
    }
   }
  }
 ],
 "metadata": {
  "kernelspec": {
   "display_name": "Python 3",
   "language": "python",
   "name": "python3"
  },
  "language_info": {
   "codemirror_mode": {
    "name": "ipython",
    "version": 2
   },
   "file_extension": ".py",
   "mimetype": "text/x-python",
   "name": "python",
   "nbconvert_exporter": "python",
   "pygments_lexer": "ipython2",
   "version": "2.7.6"
  }
 },
 "nbformat": 4,
 "nbformat_minor": 0
}